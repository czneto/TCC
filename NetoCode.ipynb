{
  "nbformat": 4,
  "nbformat_minor": 0,
  "metadata": {
    "colab": {
      "name": "NetoCode.ipynb",
      "provenance": [],
      "collapsed_sections": [
        "qsAx6FBLsn5R",
        "LIXJedl6cNG3"
      ],
      "toc_visible": true,
      "include_colab_link": true
    },
    "kernelspec": {
      "name": "python3",
      "display_name": "Python 3"
    },
    "language_info": {
      "name": "python"
    }
  },
  "cells": [
    {
      "cell_type": "markdown",
      "metadata": {
        "id": "view-in-github",
        "colab_type": "text"
      },
      "source": [
        "<a href=\"https://colab.research.google.com/github/czneto/TCC/blob/main/NetoCode.ipynb\" target=\"_parent\"><img src=\"https://colab.research.google.com/assets/colab-badge.svg\" alt=\"Open In Colab\"/></a>"
      ]
    },
    {
      "cell_type": "code",
      "metadata": {
        "id": "CehFgeH91hgi"
      },
      "source": [
        "from urllib.request import urlopen\n",
        "from bs4 import BeautifulSoup\n",
        "import pandas as pd\n",
        "import re\n",
        "import numpy as np\n",
        "import matplotlib.pyplot as plt\n"
      ],
      "execution_count": null,
      "outputs": []
    },
    {
      "cell_type": "markdown",
      "metadata": {
        "id": "JMs1T7kUlrw9"
      },
      "source": [
        "# Estração de documentos"
      ]
    },
    {
      "cell_type": "code",
      "metadata": {
        "colab": {
          "base_uri": "https://localhost:8080/"
        },
        "id": "KysQB8hB2JE_",
        "outputId": "6c94a368-eae7-4250-9a66-4721b96b9e8c"
      },
      "source": [
        "url = \"https://scon.stj.jus.br/SCON/decisoes/toc.jsp?livre=FAIR+USE&b=DTXT&l=50\"\n",
        "# url = \"https://scon.stj.jus.br/SCON/jurisprudencia/toc.jsp?livre=FAIR+USE&b=ACOR\"\n",
        "\n",
        "html = urlopen(url)\n",
        "soup = BeautifulSoup(html, 'html')\n",
        "documments = soup.find_all(class_=[\"documento\"])\n",
        "\n",
        "print(len(documments))"
      ],
      "execution_count": null,
      "outputs": [
        {
          "output_type": "stream",
          "text": [
            "10\n"
          ],
          "name": "stdout"
        }
      ]
    },
    {
      "cell_type": "code",
      "metadata": {
        "id": "vSFhHCgK1tBv"
      },
      "source": [
        "result = {\"qtd_characters\" : []}\n",
        "title_order = []\n",
        "for title in documments[0].find_all(class_=[\"docTitulo\"]):\n",
        "  title_order.append(title.text)\n",
        "  result[title.text] = []\n",
        "\n",
        "for doc in documments:\n",
        "  infos = doc.find_all(class_=[\"docTexto\"])\n",
        "  for i,title in enumerate(title_order):\n",
        "    data = infos[i].text\n",
        "    result[title].append(data)\n",
        "    if title == \"Decisão\":\n",
        "      result[\"qtd_characters\"].append(len(data))\n",
        "\n",
        "df = pd.DataFrame(result)"
      ],
      "execution_count": null,
      "outputs": []
    },
    {
      "cell_type": "code",
      "metadata": {
        "id": "d57w_mOAKpRT",
        "colab": {
          "base_uri": "https://localhost:8080/",
          "height": 558
        },
        "outputId": "4e8518cf-a834-41b0-e98f-1754c6aa54e8"
      },
      "source": [
        "df"
      ],
      "execution_count": null,
      "outputs": [
        {
          "output_type": "execute_result",
          "data": {
            "text/html": [
              "<div>\n",
              "<style scoped>\n",
              "    .dataframe tbody tr th:only-of-type {\n",
              "        vertical-align: middle;\n",
              "    }\n",
              "\n",
              "    .dataframe tbody tr th {\n",
              "        vertical-align: top;\n",
              "    }\n",
              "\n",
              "    .dataframe thead th {\n",
              "        text-align: right;\n",
              "    }\n",
              "</style>\n",
              "<table border=\"1\" class=\"dataframe\">\n",
              "  <thead>\n",
              "    <tr style=\"text-align: right;\">\n",
              "      <th></th>\n",
              "      <th>qtd_characters</th>\n",
              "      <th>Processo</th>\n",
              "      <th>Relator(a)</th>\n",
              "      <th>Data da Publicação</th>\n",
              "      <th>Decisão</th>\n",
              "      <th>Aceitabilidade Recursal</th>\n",
              "    </tr>\n",
              "    <tr>\n",
              "      <th>id_decisoes</th>\n",
              "      <th></th>\n",
              "      <th></th>\n",
              "      <th></th>\n",
              "      <th></th>\n",
              "      <th></th>\n",
              "      <th></th>\n",
              "    </tr>\n",
              "  </thead>\n",
              "  <tbody>\n",
              "    <tr>\n",
              "      <th>0</th>\n",
              "      <td>26760</td>\n",
              "      <td>REsp 1862739</td>\n",
              "      <td>Ministra MARIA ISABEL GALLOTTI</td>\n",
              "      <td>30/03/2021</td>\n",
              "      <td>\\n\\r\\nRECURSO ESPECIAL Nº 1.862.739 - RJ (2019...</td>\n",
              "      <td>provimento</td>\n",
              "    </tr>\n",
              "    <tr>\n",
              "      <th>1</th>\n",
              "      <td>23301</td>\n",
              "      <td>REsp 1846969</td>\n",
              "      <td>Ministro PAULO DE TARSO SANSEVERINO</td>\n",
              "      <td>03/12/2020</td>\n",
              "      <td>\\n\\r\\nRECURSO ESPECIAL Nº 1846969 - RJ (2019/0...</td>\n",
              "      <td>provimento</td>\n",
              "    </tr>\n",
              "    <tr>\n",
              "      <th>2</th>\n",
              "      <td>16050</td>\n",
              "      <td>AgInt no REsp 1768083</td>\n",
              "      <td>Ministra MARIA ISABEL GALLOTTI</td>\n",
              "      <td>12/08/2020</td>\n",
              "      <td>\\n\\r\\nAgInt no RECURSO ESPECIAL Nº 1.768.083 -...</td>\n",
              "      <td>provimento</td>\n",
              "    </tr>\n",
              "    <tr>\n",
              "      <th>3</th>\n",
              "      <td>3981</td>\n",
              "      <td>AREsp 1660048</td>\n",
              "      <td>Ministro PAULO DE TARSO SANSEVERINO</td>\n",
              "      <td>12/08/2020</td>\n",
              "      <td>\\n\\r\\nAGRAVO EM RECURSO ESPECIAL Nº 1660048 - ...</td>\n",
              "      <td>provimento</td>\n",
              "    </tr>\n",
              "    <tr>\n",
              "      <th>4</th>\n",
              "      <td>11636</td>\n",
              "      <td>REsp 1849344</td>\n",
              "      <td>Ministra MARIA ISABEL GALLOTTI</td>\n",
              "      <td>10/08/2020</td>\n",
              "      <td>\\n\\r\\nRECURSO ESPECIAL Nº 1849344 - SP (2019/0...</td>\n",
              "      <td>não provimento</td>\n",
              "    </tr>\n",
              "    <tr>\n",
              "      <th>5</th>\n",
              "      <td>21451</td>\n",
              "      <td>AgInt no AREsp 1311824</td>\n",
              "      <td>Ministro MARCO AURÉLIO BELLIZZE</td>\n",
              "      <td>30/04/2020</td>\n",
              "      <td>\\n\\r\\nAgInt no AGRAVO EM RECURSO ESPECIAL Nº 1...</td>\n",
              "      <td>provimento parcial</td>\n",
              "    </tr>\n",
              "    <tr>\n",
              "      <th>6</th>\n",
              "      <td>23623</td>\n",
              "      <td>AREsp 1628623</td>\n",
              "      <td>Ministro PAULO DE TARSO SANSEVERINO</td>\n",
              "      <td>11/03/2020</td>\n",
              "      <td>\\n\\r\\nAGRAVO EM RECURSO ESPECIAL Nº 1.628.623 ...</td>\n",
              "      <td>provimento</td>\n",
              "    </tr>\n",
              "    <tr>\n",
              "      <th>7</th>\n",
              "      <td>16272</td>\n",
              "      <td>TutPrv no AREsp 1530583</td>\n",
              "      <td>Ministra MARIA ISABEL GALLOTTI</td>\n",
              "      <td>13/12/2019</td>\n",
              "      <td>\\n\\r\\nTutPrv no AGRAVO EM RECURSO ESPECIAL Nº ...</td>\n",
              "      <td>provimento</td>\n",
              "    </tr>\n",
              "    <tr>\n",
              "      <th>8</th>\n",
              "      <td>19696</td>\n",
              "      <td>AREsp 1265610</td>\n",
              "      <td>Ministro MARCO BUZZI</td>\n",
              "      <td>11/12/2019</td>\n",
              "      <td>\\n\\r\\nAGRAVO EM RECURSO ESPECIAL Nº 1.265.610 ...</td>\n",
              "      <td>não provimento</td>\n",
              "    </tr>\n",
              "    <tr>\n",
              "      <th>9</th>\n",
              "      <td>37957</td>\n",
              "      <td>REsp 1417851</td>\n",
              "      <td>Ministro LUIS FELIPE SALOMÃO</td>\n",
              "      <td>01/10/2019</td>\n",
              "      <td>\\n\\r\\nRECURSO ESPECIAL Nº 1.417.851 - SP (2013...</td>\n",
              "      <td>não provimento</td>\n",
              "    </tr>\n",
              "  </tbody>\n",
              "</table>\n",
              "</div>"
            ],
            "text/plain": [
              "             qtd_characters  ... Aceitabilidade Recursal\n",
              "id_decisoes                  ...                        \n",
              "0                     26760  ...              provimento\n",
              "1                     23301  ...              provimento\n",
              "2                     16050  ...              provimento\n",
              "3                      3981  ...              provimento\n",
              "4                     11636  ...          não provimento\n",
              "5                     21451  ...      provimento parcial\n",
              "6                     23623  ...              provimento\n",
              "7                     16272  ...              provimento\n",
              "8                     19696  ...          não provimento\n",
              "9                     37957  ...          não provimento\n",
              "\n",
              "[10 rows x 6 columns]"
            ]
          },
          "metadata": {
            "tags": []
          },
          "execution_count": 43
        }
      ]
    },
    {
      "cell_type": "markdown",
      "metadata": {
        "id": "qsAx6FBLsn5R"
      },
      "source": [
        "# Extrator de Aceitação\n"
      ]
    },
    {
      "cell_type": "code",
      "metadata": {
        "id": "sy7KOSOew6uM"
      },
      "source": [
        "def create_positiveness_pattern(words):\n",
        "  print(words)\n",
        "  generic_pattern = \"(\"\n",
        "\n",
        "  pattern = \"\"\n",
        "  for pat in words:\n",
        "    pattern = f\"{pattern}\\\\b{pat}\\\\b|\"\n",
        "\n",
        "  generic_pattern = f\"{generic_pattern}{pattern[:-1]})\"\n",
        "\n",
        "  return generic_pattern"
      ],
      "execution_count": null,
      "outputs": []
    },
    {
      "cell_type": "code",
      "metadata": {
        "id": "fnigDRtxwgns"
      },
      "source": [
        "negative_words = [\"não provido\",\"não provimento\",\"nego provimento\",\"negam provimento\",\"não conheço\",\"não conhecimento\",\"nego conhecimento\",\"rejeito\",\"rejeita\",\"rejeitam\", \"não defiro\", \"não deferimento\", \"nego deferimento\"]\n",
        "partial_words = [\"parcialmente provido\",\"provimento parcial\",\"parcial provimento\", \"defiro parcialmente\", \"parcial deferimento\"]\n",
        "positive_words  = [\"provido\",\"provimento\",\"dou provimento\",\"conheço\",\"conheçam\", \"conheça\",\"conhecimento\",\n",
        "                   \"aceito\",\"aceita\",\"aceitam\", \"defiro\", \"defiram\", \"deferimento\", \"defira\"]\n",
        "\n",
        "acceptness_types = {\"negative\" :\"não provimento\",  \"neutral\" : \"provimento parcial\",\"positive\" : \"provimento\", \"NaN\" : \"Não classificado\"}          \n",
        "\n",
        "negative_prefix = [\"não\", \"nego\", \"negam\"]\n",
        "partial_prefix = [\"parcial\"]\n",
        "\n",
        "words = []\n",
        "words.extend(positive_words)\n",
        "words.extend(partial_words)\n",
        "words.extend(negative_words)"
      ],
      "execution_count": null,
      "outputs": []
    },
    {
      "cell_type": "code",
      "metadata": {
        "colab": {
          "base_uri": "https://localhost:8080/",
          "height": 139
        },
        "id": "A5qn5e8OxlKr",
        "outputId": "284e364b-68e1-49e2-a5f0-0052c91a1913"
      },
      "source": [
        "positiveness_pattern = create_positiveness_pattern(words)\n",
        "positiveness_pattern"
      ],
      "execution_count": null,
      "outputs": [
        {
          "output_type": "stream",
          "text": [
            "['provido', 'provimento', 'dou provimento', 'conheço', 'conheçam', 'conheça', 'conhecimento', 'aceito', 'aceita', 'aceitam', 'defiro', 'defiram', 'deferimento', 'defira', 'parcialmente provido', 'provimento parcial', 'parcial provimento', 'defiro parcialmente', 'parcial deferimento', 'não provido', 'não provimento', 'nego provimento', 'negam provimento', 'não conheço', 'não conhecimento', 'nego conhecimento', 'rejeito', 'rejeita', 'rejeitam', 'não defiro', 'não deferimento', 'nego deferimento']\n"
          ],
          "name": "stdout"
        },
        {
          "output_type": "execute_result",
          "data": {
            "application/vnd.google.colaboratory.intrinsic+json": {
              "type": "string"
            },
            "text/plain": [
              "'(\\\\bprovido\\\\b|\\\\bprovimento\\\\b|\\\\bdou provimento\\\\b|\\\\bconheço\\\\b|\\\\bconheçam\\\\b|\\\\bconheça\\\\b|\\\\bconhecimento\\\\b|\\\\baceito\\\\b|\\\\baceita\\\\b|\\\\baceitam\\\\b|\\\\bdefiro\\\\b|\\\\bdefiram\\\\b|\\\\bdeferimento\\\\b|\\\\bdefira\\\\b|\\\\bparcialmente provido\\\\b|\\\\bprovimento parcial\\\\b|\\\\bparcial provimento\\\\b|\\\\bdefiro parcialmente\\\\b|\\\\bparcial deferimento\\\\b|\\\\bnão provido\\\\b|\\\\bnão provimento\\\\b|\\\\bnego provimento\\\\b|\\\\bnegam provimento\\\\b|\\\\bnão conheço\\\\b|\\\\bnão conhecimento\\\\b|\\\\bnego conhecimento\\\\b|\\\\brejeito\\\\b|\\\\brejeita\\\\b|\\\\brejeitam\\\\b|\\\\bnão defiro\\\\b|\\\\bnão deferimento\\\\b|\\\\bnego deferimento\\\\b)'"
            ]
          },
          "metadata": {
            "tags": []
          },
          "execution_count": 46
        }
      ]
    },
    {
      "cell_type": "code",
      "metadata": {
        "id": "I9eTFgCkstdH"
      },
      "source": [
        "result_list = []\n",
        "for i,line in df.iterrows():\n",
        "\n",
        "  text = line[\"Decisão\"][int(line[\"qtd_characters\"]/2):]\n",
        "\n",
        "  positiveness_list = re.findall(positiveness_pattern, text , re.IGNORECASE)\n",
        "  if len(positiveness_list) == 0:\n",
        "      result_list.append(\"NaN\")\n",
        "      continue\n",
        "\n",
        "  last_word = \"\"\n",
        "  last_word_p = 0\n",
        "  for word in positiveness_list:\n",
        "    p = text.rfind(word)\n",
        "    if p > last_word_p:\n",
        "      last_word_p = p\n",
        "      last_word = word\n",
        "\n",
        "  last_word = last_word.lower()\n",
        "  if last_word in positive_words:\n",
        "    result = acceptness_types[\"positive\"]\n",
        "\n",
        "    init_postion = last_word_p - 15\n",
        "    end_postion = last_word_p + len(last_word) + 15\n",
        "    if  end_postion > len(text):\n",
        "      end_postion = len(text)\n",
        "    \n",
        "    word_range = text[init_postion : end_postion].lower()\n",
        "\n",
        "    for neg in negative_prefix:\n",
        "      if neg in word_range:\n",
        "        result = acceptness_types[\"negative\"]\n",
        "        break\n",
        "    \n",
        "    if result == \"positive\":\n",
        "      for neu in partial_prefix:\n",
        "        if neu in word_range:\n",
        "          result = acceptness_types[\"neutral\"]\n",
        "          break\n",
        "\n",
        "  elif last_word in negative_words:\n",
        "    result = acceptness_types[\"negative\"]\n",
        "\n",
        "  elif last_word in partial_words:\n",
        "    result = acceptness_types[\"neutral\"]\n",
        "\n",
        "  result_list.append(result)\n"
      ],
      "execution_count": null,
      "outputs": []
    },
    {
      "cell_type": "code",
      "metadata": {
        "id": "k0mG1Gjo3VXX"
      },
      "source": [
        "df[\"Aceitabilidade Recursal\"] = result_list"
      ],
      "execution_count": null,
      "outputs": []
    },
    {
      "cell_type": "code",
      "metadata": {
        "id": "JLa93KuEEa8z"
      },
      "source": [
        "df.index.name='id_decisoes'"
      ],
      "execution_count": null,
      "outputs": []
    },
    {
      "cell_type": "code",
      "metadata": {
        "id": "0M2oC_LWDzuJ"
      },
      "source": [
        "df.to_csv(\"result.csv\")"
      ],
      "execution_count": null,
      "outputs": []
    },
    {
      "cell_type": "code",
      "metadata": {
        "id": "qShoo45sIGeP"
      },
      "source": [
        "def label_function(val):\n",
        "    return f'{val / 100 * len(df):.0f}\\n{val:.0f}%'"
      ],
      "execution_count": null,
      "outputs": []
    },
    {
      "cell_type": "code",
      "metadata": {
        "colab": {
          "base_uri": "https://localhost:8080/",
          "height": 320
        },
        "id": "cqZTgOnMGwdO",
        "outputId": "1c3e0b30-1b3e-4352-9cf8-07be50a8a583"
      },
      "source": [
        "\n",
        "fig, (ax1) = plt.subplots(ncols=1, figsize=(10, 5))\n",
        "\n",
        "a = df.groupby('Aceitabilidade Recursal').size().plot(kind='pie', autopct=label_function, ax=ax1)\n",
        "\n",
        "ax1.set_ylabel('')\n",
        "\n"
      ],
      "execution_count": null,
      "outputs": [
        {
          "output_type": "execute_result",
          "data": {
            "text/plain": [
              "Text(0, 0.5, '')"
            ]
          },
          "metadata": {
            "tags": []
          },
          "execution_count": 52
        },
        {
          "output_type": "display_data",
          "data": {
            "image/png": "[encoded data removed]",
            "text/plain": [
              "<Figure size 720x360 with 1 Axes>"
            ]
          },
          "metadata": {
            "tags": []
          }
        }
      ]
    },
    {
      "cell_type": "markdown",
      "metadata": {
        "id": "a7GKeTGWll5H"
      },
      "source": [
        "# Extrator de Leis\n"
      ]
    },
    {
      "cell_type": "code",
      "metadata": {
        "id": "ejGvmRvzXoGc"
      },
      "source": [
        "def create_law_pattern():\n",
        "  generic_pattern = \"(art\\.|artigo)(.*?)(:\"\n",
        "  patter_list = [\"/\",\"CDC\", \"Código de Defesa do Consumidor\" ,\n",
        "                \"CC\", \"Código Civil\", \"CF\", \"Constituição Federal\", \"CLT\", \n",
        "                \"Consolidação das Leis do Trabalho\", \"CNJ\", \n",
        "                \"Conselho Nacional de Justiça\", \n",
        "                \"CP\", \"Código Penal\", \"CPC\", \"NCPC\", \"Código de Processo Civil\", \n",
        "                \"CPM, Código Penal Militar\", \"CPP\" , \"Código de Processo Penal\", \n",
        "                \"CPPM\" , \"Código de Processo Penal Militar\", \"CRFB\", \n",
        "                \"Constituição da República Federativa do Brasil\",\n",
        "                \"CF\" ,\"Constituição da República Federativa do Brasil\", \"CTN\" , \n",
        "                \"Código Tributário Nacional\", \"ECA\" ,\n",
        "                \"Estatuto da Criança e do Adolescente\"]\n",
        "\n",
        "  pattern = \"\"\n",
        "  for pat in patter_list:\n",
        "    pattern = f\"{pattern}{pat}|\"\n",
        "\n",
        "  generic_pattern = f\"{generic_pattern}{pattern[:-1]})\"\n",
        "\n",
        "  return generic_pattern\n"
      ],
      "execution_count": null,
      "outputs": []
    },
    {
      "cell_type": "code",
      "metadata": {
        "id": "NEQYtBTkfw6j"
      },
      "source": [
        "law_pattern = create_law_pattern()"
      ],
      "execution_count": null,
      "outputs": []
    },
    {
      "cell_type": "code",
      "metadata": {
        "colab": {
          "base_uri": "https://localhost:8080/",
          "height": 86
        },
        "id": "HaE8zKASAICg",
        "outputId": "f920b1f5-0040-49f9-deff-c4ee91d6078c"
      },
      "source": [
        "law_pattern"
      ],
      "execution_count": null,
      "outputs": [
        {
          "output_type": "execute_result",
          "data": {
            "application/vnd.google.colaboratory.intrinsic+json": {
              "type": "string"
            },
            "text/plain": [
              "'(art\\\\.|artigo)(.*?)(:/|CDC|Código de Defesa do Consumidor|CC|Código Civil|CF|Constituição Federal|CLT|Consolidação das Leis do Trabalho|CNJ|Conselho Nacional de Justiça|CP|Código Penal|CPC|NCPC|Código de Processo Civil|CPM, Código Penal Militar|CPP|Código de Processo Penal|CPPM|Código de Processo Penal Militar|CRFB|Constituição da República Federativa do Brasil|CF|Constituição da República Federativa do Brasil|CTN|Código Tributário Nacional|ECA|Estatuto da Criança e do Adolescente)'"
            ]
          },
          "metadata": {
            "tags": []
          },
          "execution_count": 67
        }
      ]
    },
    {
      "cell_type": "code",
      "metadata": {
        "id": "FJj02h0cc8JF"
      },
      "source": [
        "result = {\"id_decisoes\" : [], \"lei\" : []}\n",
        "\n",
        "for i,line in df.iterrows():\n",
        "  laws_list = re.findall(law_pattern, line[\"Decisão\"], re.IGNORECASE)\n",
        "\n",
        "  # laws_list = re.findall(law_pattern, line[\"Decisão\"], re.IGNORECASE)\n",
        "  for law in laws_list:\n",
        "    law_part = law[1].strip(\"s\").strip(\" \")\n",
        "    if not law_part[0] in \"1234567890\":\n",
        "      continue \n",
        "      \n",
        "    result[\"id_decisoes\"].append(i)\n",
        "    result[\"lei\"].append(\"\".join(law))"
      ],
      "execution_count": null,
      "outputs": []
    },
    {
      "cell_type": "code",
      "metadata": {
        "id": "p7RmaJ66gGmS"
      },
      "source": [
        "leis_df = pd.DataFrame(result)"
      ],
      "execution_count": null,
      "outputs": []
    },
    {
      "cell_type": "code",
      "metadata": {
        "id": "EvP1KQgcHDhZ"
      },
      "source": [
        "leis_df.to_csv(\"leis\")"
      ],
      "execution_count": null,
      "outputs": []
    },
    {
      "cell_type": "markdown",
      "metadata": {
        "id": "LIXJedl6cNG3"
      },
      "source": [
        "# para o futuro"
      ]
    },
    {
      "cell_type": "code",
      "metadata": {
        "id": "uxJq4ugtNLYk"
      },
      "source": [
        " a = \"DIREITO CIVIL E PROCESSUAL CIVIL. VIOLAÇÃO DE DIREITOS AUTORAIS.REDE SOCIAL. ORKUT. RESPONSABILIDADE CIVIL DO PROVEDOR (ADMINISTRADOR). INEXISTÊNCIA, NO CASO CONCRETO. ESTRUTURA DA REDE E COMPORTAMENTO DO PROVEDOR QUE NÃO CONTRIBUÍRAM PARA A VIOLAÇÃO DE DIREITOS AUTORAIS. RESPONSABILIDADES CONTRIBUTIVA E VICÁRIA. NÃO APLICAÇÃO. INEXISTÊNCIA DE DANOS QUE POSSAM SER EXTRAÍDOS DA CAUSA DE PEDIR. OBRIGAÇÃO DE FAZER. INDICAÇÃO DE URL\""
      ],
      "execution_count": null,
      "outputs": []
    },
    {
      "cell_type": "code",
      "metadata": {
        "colab": {
          "base_uri": "https://localhost:8080/"
        },
        "id": "AGbao_ZEHp84",
        "outputId": "497905f0-4d91-4210-f69d-6fe97410e8d1"
      },
      "source": [
        "count = 0\n",
        "for i,l in df.iterrows():\n",
        "  if a in l[\"Decisão\"]:\n",
        "    count += 1\n",
        "count"
      ],
      "execution_count": null,
      "outputs": [
        {
          "output_type": "execute_result",
          "data": {
            "text/plain": [
              "6"
            ]
          },
          "metadata": {
            "tags": []
          },
          "execution_count": 102
        }
      ]
    },
    {
      "cell_type": "code",
      "metadata": {
        "id": "ux5qKK_YCl-U"
      },
      "source": [
        "h = df[\"Decisão\"].loc[0].split(\"\\n\")[2]"
      ],
      "execution_count": null,
      "outputs": []
    },
    {
      "cell_type": "code",
      "metadata": {
        "colab": {
          "base_uri": "https://localhost:8080/",
          "height": 108
        },
        "id": "S7eblywRe-br",
        "outputId": "3851550b-7b55-4d9a-ff9a-7de098d094db"
      },
      "source": [
        "h"
      ],
      "execution_count": null,
      "outputs": [
        {
          "output_type": "execute_result",
          "data": {
            "application/vnd.google.colaboratory.intrinsic+json": {
              "type": "string"
            },
            "text/plain": [
              "'RECURSO ESPECIAL Nº 1.862.739 - RJ (2019/0184715-0)DECISÃOTrata-se de recurso especial interposto por GOOGLE BRASIL INTERNET LTDA., com fundamento nas alíneas \"a\" e \"c\" do inciso III do artigo 105 da Constituição Federal, contra acórdão proferido pela Sexta Câmara Cível do Tribunal de Justiça do Estado do Rio de Janeiro, assim ementado (fls. 801/802):APELAÇÃO CÍVEL. OBRIGAÇÃO DE FAZER CUMULADA COM INDENIZAÇÃO POR DANOS MORAIS. RESPONSABILIDADE CIVIL. DANOS À IMAGEM E À HONRA.SITIO DE BUSCA GOOGLE SEARCH. DISPONIBILIZAÇÃO DE INFORMAÇÕES QUE VINCULAM O NOME DOS AUTORES A PREDICATIVOS QUE DEPRECIAM A SUA HONRA. SENTENÇA DE PROCEDÊNCIA. PREVENÇÃO DA CÂMARA. RÉU QUE É PARTE LEGITIMA PARA FIGURAR EM AÇÃO QUE VISA A REMOÇÃO DE CONTEÚDO OFENSIVO, VEICULADO NA INTERNET. NULIDADES, ARGUIDAS SOB O FUNDAMENTO DE INOBSERVÂNCIA DA LEI 12.965/2014, REJEITADAS. MARCO CIVIL DA INTERNET (LEI 12.965 /2014). INAPLICABILIDADE AOS CASOS ANTERIORES A SUA VIGÊNCIA. NOTIFICAÇÃO EXTRAJUDICIAL PARA EXCLUSÃO DO CONTEÚDO DIFAMATÓRIO, NÃO ATENDIDA. DEFERIMENTO DA TUTELA DE URGÊNCIA ANTECIPADA PARA DETERMINAR AO RÉU QUE RETIRE A MENSAGEM OFENSIVA. VIOLAÇÃO DO DIREITO DA PERSONALIDADE QUE ENSEJA A REPARAÇÃO POR DANO MORAL. DIREITO AO ESQUECIMENTO. DESNECESSIDADE DE INDICAÇÃO DA URL. AUTORES QUE APRESENTARAM INFORMAÇÕES SUFICIENTES PARA A LOCALIZAÇÃO DO CONTEÚDO OFENSIVO. PROVEDOR QUE POSSUI MEIOS PARA DESVINCULAR A PESQUISA DO NOME DOS AUTORES DAS PÁGINAS, INDICADAS. PRECEDENTES DO STJ. DANO MORAL, CONFIGURADO. MAJORAÇÃO DA VERBA INDENIZATÓRIA. HONORÁRIOS ADVOCATÍCIOS, FIXADOS EM VALOR PROPORCIONAL AO TRABALHO EXERCIDO E COMPLEXIDADE DA CAUSA. MAJORAÇÃO DOS HONORÁRIOS ADVOCATÍCIOS EM SEDE RECURSAL, NA FORMA DO ARTIGO 85, § 11 DO NCPC. MANUTENÇÃO DO VALOR DAS ASTREINTES. ERRO MATERIAL NO PRONUNCIAMENTO DO TERMO INICIAL DA MULTA PELO DESCUMPRIMENTO DA OBRIGAÇÃO DE FAZER. TERMO A QUO QUE SE DÁ A PARTIR DA INTIMAÇÃO PESSOAL DO DEVEDOR PARA CUMPRIMENTO DA OBRIGAÇÃO.PRECEDENTES DO STJ. MULTA, APLICADA POR ATO ATENTATÓRIO À DIGNIDADE DA JUSTIÇA, NO PERCENTUAL DE 20% POR CENTO. DESPROVIMENTO DO RECURSO DO RÉU. PARCIAL PROVIMENTO DO RECURSO DOS AUTORES.Os embargos de declaração opostos na origem foram rejeitados (fls. 887/896).A recorrente sustenta, nas razões de recurso especial, ofensa aos artigos 186, 248 e 927 do Código Civil; 19, caput e § 1º, da Lei n. 12.965/2014 (Marco Civil da Internet); 77, § 2º, e 1.022, II, do Código de Processo Civil, bem como divergência jurisprudencial, alegando a ocorrência de negativa de prestação jurisdicional com a rejeição dos embargos de declaração sem correção dos vícios apontados, a impertinência da multa aplicada por ato atentatório à dignidade da justiça, a invalidade das ordens de remoção de notícias ofensivas aos requeridos de sua ferramenta de buscas sem a indicação de URL e o monitoramento para impedir novas inclusões e a inexistência de responsabilidade por danos morais decorrentes de mero descumprimento de notificação extrajudicial. Defende, em síntese, a inviabilidade de se imputar aos provedores de pesquisas a análise subjetiva de conteúdo, sendo necessária ordem judicial específica para sua remoção, conforme determina a legislação de regência, que deve ser aplicada aos casos anteriores à sua vigência, e a jurisprudência deste Superior Tribunal. Requer, assim, a reforma do acórdão recorrido para afastamento das obrigações que lhe foram impostas.Às fls. 1.436/1.443 foi deferida tutela provisória para emprestar efeito suspensivo ao recurso especial e determinar a suspensão do cumprimento provisório da sentença.Assim delimitada a controvérsia, passo a decidir.Depreende-se dos autos que os recorridos ajuizaram ação de cumprimento de obrigação de fazer em face da recorrente, objetivando a remoção pela ré do seu sistema de pesquisas de resultados referentes a notícias ofensivas à sua honra e também que se abstenha de promover novas inclusões de mesmo teor. Requerem, além da retirada, a condenação no pagamento de danos morais pela exposição gravosa à sua dignidade e honra com a divulgação do conteúdo ofensivo.Foi deferida antecipação dos efeitos da tutela para determinar \"que a ré retire imediatamente do seu site e das suas coligadas toda e qualquer matéria existente, que contenha ofensas aos autores e se abstenha de autorizar ou promover quaisquer outras inclusões de igual teor, sob pena de multa diária de R$ 20.000,00 (vinte mil reais), sem prejuízo da sanção, prevista no parágrafo único do art. 14 do CPC e, demais cominações legais\" (fl. 806).A sentença confirmou a tutela antecipatória concedida para retirada das ofensas referidas na inicial do site de busca e abstenção de novas publicações e condenou a recorrente \"a ressarcir danos morais no valor de R$ 30 mil para cada autor, corrigidos a partir da publicação desta sentença e com juros de mora a partir do recebimento da notificação extrajudicial mencionada na inicial\" (fl. 515) e pagamento de honorários advocatícios fixados em 10% (dez por cento) sobre o valor da condenação.A Sexta Câmara Cível do Tribunal de Justiça do Estado do Rio de Janeiro, por sua vez, afastou a aplicabilidade da Lei n. 12.965/14 ao caso, pela anterioridade dos fatos, e negou provimento ao recurso de apelação, pelos seguintes fundamentos (fls. 811/823):Com o advento da Lei nº 12.965/2014 (Lei do Marco Civil da Internet), instituiu-se, entre outros princípios, garantias, direitos e deveres para o uso da internet no Brasil, o postulado básico de que, pelos danos decorrentes de conteúdos virtuais, gerados por terceiros, os provedores de aplicações de internet só serão civilmente responsabilizados quando, após ordem judicial específica, não tomarem as providências necessárias para tornar indisponível um determinado conteúdo, apontado como infringente. É o que dispõe o caput do artigo 19 da referida lei:Art. 19. Com o intuito de assegurar a liberdade de expressão e impedir a censura, o provedor de aplicações de internet somente poderá ser responsabilizado civilmente por danos decorrentes de conteúdo gerado por terceiros se, após ordem judicial específica, não tomar as providências para, no âmbito e nos limites técnicos do seu serviço e dentro do prazo assinalado, tornar indisponível o conteúdo apontado como infringente, ressalvadas as disposições legais em contrário.O § 1º assim dispõe:§ 1º A ordem judicial de que trata o caput deverá conter, sob pena de nulidade, identificação clara e específica do conteúdo apontado como infringente, que permita a localização inequívoca do material.Ocorre que a Lei nº 12.965/14 apenas entrou em vigor em 25/06/2014, ou seja, sessenta dias depois de sua publicação, consoante artigo 32. Os fatos narrados são anteriores a isso, pois as matérias ofensivas foram lançadas na internet no período, compreendido entre dezembro/2009 e julho de 2012 (fls. 30/34), razão pela qual inviável aplicar as disposições da referida lei no presente caso, sob pena de atribuir efeitos pretéritos à novel legislação de direito material, o que não é admitido em nosso ordenamento jurídico.Assim, no caso em exame, deve ser aplicado o entendimento, pacificado no STJ antes do advento da Lei 12.965/14, o qual estabelecia a responsabilidade subjetiva dos provedores de aplicação aos casos em que usuários inseriam conteúdos ofensivos em seus sítios, impondo-se para a responsabilização apenas que se demonstrasse que o ofendido informou ao provedor do conteúdo ofensivo e, postulou a sua exclusão.(...)No mérito, os autores lograram demonstrar que efetuaram a denúncia do referido conteúdo ofensivo por meio de notificação extrajudicial, em agosto de 2013. É o que consta dos documentos de fls. 27/34.Não obstante, o réu se manteve inerte e mesmo com o deferimento da antecipação de tutela não tomou as providências determinadas, conforme admite em sua contestação de fls. 138/180, alegando, inclusive, que há a necessidade de indicação da URL específica da página que se pretende remover.O Superior Tribunal de Justiça já enfrentou a questão, tendo firmado que \"O provedor de internet-administrador de redes sociais -, ainda em sede de liminar, deve retirar informações difamantes a terceiros manifestadas por seus usuários, independentemente da indicação precisa, pelo ofendido, das páginas que foram veiculadas as ofensas (URL\\'s)\" (cf. Acórdão de 09.08.2011, no REsp nº1.175.675/RS, rel. Ministro Luis Felipe Salomão, Quarta Turma, julgado em 09/08/2011).No citado precedente, o Ministro Raul Araújo trouxe relevante contribuição ao debate, cujos termos explicitam bem a linha adotada pelo Colegiado naquela ocasião: \"[...] o provedor de Internet tem de dispor dos meios de contenção dos problemas gerados no ambiente por ele administrado. Não penso que possa alegar incapacidade técnica para conter abusos que ele mesmo deixe propagar através da rede. Se não tem condição de contenção desses problemas, não deve deixar que sejam gerados. A responsabilidade social é algo que faz parte da vida do mundo dos povos civilizados. Esses provedores de Internet têm de conviver num ambiente civilizado, ou seja, que respeite a esfera particular, a intimidade, a honra das pessoas. Têm de ter, necessariamente, as ferramentas\".Assim, de acordo com a jurisprudência, não há necessidade de indicação específica das URL’s em que foram veiculadas as mensagens de cunho difamatório, dispondo o réu de ferramentas técnicas para retirar imediatamente do ar qualquer conteúdo irregularmente inserido.(...)Verifica-se que os autores forneceram dados suficientes, a fim de que o réu efetue a localização do conteúdo abusivo, razão pela qual não se vislumbra qualquer impossibilidade de cumprimento da tutela de urgência antecipada, deferida.A alegada incapacidade técnica de varredura das mensagens incontroversamente difamantes constitui venire contra factum proprium, inoponível em favor do provedor de internet.Não é crível que uma empresa do porte da Google - que, de acordo com pesquisa da agência Millward Brown, veiculada amplamente pela mídia, lidera o ranking da marca mais valiosa do mundo (US$ 229 bilhões de dólares), seguida da Apple (US$ 228 bilhões de dólares), não possua capacidade técnica para identificar as páginas que contenham mensagens depreciativas à honra dos autores, independentemente da identificação precisa, por parte destes, das URL\"s.Também não se sustenta o argumento de que não seria possível ao provedor de internet realizar um juízo subjetivo de valor acerca da potencialidade lesiva das mensagens, para ele próprio concluir que há ofensa à honra de outrem, seja porque, poderia o provedor criar programas cibernéticos, que capturassem tais expressões injuriosas e ofensivas, seja porque, poderiam as mensagens ser examinadas por um corpo técnico especializado.Assim, por qualquer ângulo que se analise a controvérsia, afigura-se possível o cumprimento da tutela de urgência que determinou à Google a retirada de toda e qualquer menção difamatória do nome dos autores.Não se trata de censura prévia à liberdade de expressão dos usuários das chamadas redes sociais, pois embora a própria Constituição Federal proclame o direito de liberdade de expressão e de manifestação do pensamento, traçando as diretrizes principiológicas de exercício desse direito, no § 3º do artigo 222, restringe tal liberdade, ao afirmar que \"[os] meios de comunicação social eletrônica, independentemente da tecnologia utilizada para a prestação do serviço, deverão observar os princípios enunciados no art. 221\", princípios dos quais se destaca o \"respeito aos valores éticos e sociais da pessoa e da família\" (inciso IV).Desta forma, o princípio da dignidade da pessoa humana, insculpido no art. 1º, inciso III, da Constituição Federal, é a lente, pela qual devem ser lidos os demais direitos e liberdades, consagrados constitucionalmente.(...)Na hipótese, os autores são pessoas públicas, possuindo suas imagens grande influência no desempenho de suas funções.Sendo assim, a proteção a estes direitos deve ser efetiva, de modo a corresponder ao sistema jurídico, aos anseios de justiça e solidariedade social.O \"direito ao esquecimento\" é hodiernamente entendido como o direito que uma pessoa possui de não permitir a exposição de um fato pretérito ao público em geral, causando-lhe sofrimento ou transtornos. Salienta-se que a rede mundial de computadores praticamente eterniza as notícias e informações, permitindo o acesso a fatos, ocorridos há muitos anos, inclusive com fotos e vídeos.O Enunciado 531 da VI Jornada de Direito Civil do CJF/STJ defende a existência do Direito ao Esquecimento:ENUNCIADO 531: A TUTELA DA DIGNIDADE DA PESSOA HUMANA NA SOCIEDADE DA INFORMAÇÃO INCLUI O DIREITO AO ESQUECIMENTO.O Superior Tribunal de Justiça acolhe a tese e em dois julgados recentes afirmou que o sistema jurídico brasileiro protege o direito ao esquecimento (REsp 1.335.153-RJ e REsp 1.334.097-RJ, Rel. Min. Luis Felipe Salomão, julgados em 28/5/2013).O site de busca do réu tornou-se uma das maiores e mais eficazes plataformas, utilizadas como ferramenta na busca e acesso as inúmeras páginas, existentes na internet, fazendo com que estas buscas sejam direcionadas com muito mais agilidade pelo internauta.Nesse contexto, a manutenção de ofensas e informações inverídicas, veiculadas no sítio de busca do réu, revela-se manifestamente lesiva à imagem e honra objetiva dos autores, impondo-se reconhecer o direito ao esquecimento, com a remoção de todo e qualquer conteúdo ofensivo ao nome e honra dos autores.Portanto, reafirma-se a legitimidade passiva do réu e o dever de indenizar, considerando a omissão em excluir o conteúdo claramente ofensivo ao direito de personalidade dos autores.Não verifico, portanto, a apontada violação do inciso II do art. 1.022 do Código de Processo Civil, haja vista o Tribunal estadual ter dirimido clara e integralmente a controvérsia, porém em sentido diverso do pretendido pela recorrente.A jurisprudência desta Casa é pacífica ao proclamar que, se os fundamentos adotados bastam para justificar o concluído na decisão, o julgador não está obrigado a rebater, um a um, os argumentos suscitados pela parte em embargos declaratórios, cuja rejeição, nesse contexto, não implica contrariedade à sua norma de regência.Ocorre que, quanto ao mérito, a conclusão do acórdão recorrido é contrária ao entendimento dominante neste Tribunal acerca da necessidade de indicação do endereço específico (URL) do conteúdo ofensivo, que deve ser fornecido pelo requerente, a fim de que o Poder Judiciário ordene sua remoção.Assim, esta Corte entende que não é possível imputar ao provedor de pesquisa a obrigação de controle prévio de conteúdo e também a sua remoção sem indicação específica (URL), entendimento que já era acolhido pela jurisprudência do STJ anteriormente ao Marco Civil da Internet (REsp 1406448/RJ, Rel. Ministra NANCY ANDRIGHI, TERCEIRA TURMA, DJe 21.10.2013).Confiram-se, a propósito, os seguintes precedentes:CIVIL E PROCESSUAL CIVIL. RESPONSABILIDADE CIVIL DO PROVEDOR DE APLICAÇÃO. YOUTUBE. OBRIGAÇÃO DE FAZER. REMOÇÃO DE CONTEÚDO.FORNECIMENTO DE LOCALIZADOR URL DA PÁGINA OU RECURSO DA INTERNET.COMANDO JUDICIAL ESPECÍFICO. NECESSIDADE.1. Ação ajuizada 08/04/2011. Recurso especial interposto em 06/08/2015 e atribuído a este Gabinete em 13/03/2017.2. Necessidade de indicação clara e específica do localizador URL do conteúdo infringente para a validade de comando judicial que ordene sua remoção da internet. O fornecimento do URL é obrigação do requerente. Precedentes deste STJ.3. A necessidade de indicação do localizador URL não é apenas uma garantia aos provedores de aplicação, como forma de reduzir eventuais questões relacionadas à liberdade de expressão, mas também é um critério seguro para verificar o cumprimento das decisões judiciais que determinar a remoção de conteúdo na internet. 4. Em hipóteses com ordens vagas e imprecisas, as discussões sobre o cumprimento de decisão judicial e quanto à aplicação de multa diária serão arrastadas sem necessidade até os Tribunais superiores.5. A ordem que determina a retirada de um conteúdo da internet deve ser proveniente do Poder Judiciário e, como requisito de validade, deve ser identificada claramente. 6. O Marco Civil da Internet elenca, entre os requisitos de validade da ordem judicial para a retirada de conteúdo infringente, a \"identificação clara e específica do conteúdo\", sob pena de nulidade, sendo necessário, portanto, a indicação do localizador URL.7. Na hipótese, conclui-se pela impossibilidade de cumprir ordens que não contenham o conteúdo exato, indicado por localizador URL, a ser removido, mesmo que o acórdão recorrido atribua ao particular interessado a prerrogativa de informar os localizadores únicos dos conteúdos supostamente infringentes.7. Recurso especial provido.(REsp 1698647/SP, Rel. Ministra NANCY ANDRIGHI, TERCEIRA TURMA, DJe 15.2.2018);CIVIL, PROCESSO CIVIL E CONSUMIDOR. RECLAMAÇÃO. RESOLUÇÃO 12/09 DO STJ. DECISÃO TERATOLÓGICA. CABIMENTO. INTERNET. PROVEDOR DE PESQUISA VIRTUAL. FILTRAGEM PRÉVIA DAS BUSCAS. DESNECESSIDADE. RESTRIÇÃO DOS RESULTADOS. NÃO-CABIMENTO. CONTEÚDO PÚBLICO. DIREITO À INFORMAÇÃO.DADOS OFENSIVOS ARMAZENADOS EM CACHE. EXCEÇÃO. EXCLUSÃO. DEVER, DESDE QUE FORNECIDO O URL DA PÁGINA ORIGINAL E COMPROVADA A REMOÇÃO DESTA DA INTERNET. COMANDO JUDICIAL ESPECÍFICO. NECESSIDADE.ASTREINTES. OBRIGAÇÃO IMPOSSÍVEL. DESCABIMENTO. DISPOSITIVOS LEGAIS ANALISADOS: ARTS. 220, § 1º, da CF/88, 461, § 5º, do CPC.1. Embora as reclamações ajuizadas com base na Resolução nº 12/2009 do STJ a rigor somente sejam admissíveis se demonstrada afronta à jurisprudência desta Corte, consolidada em enunciado sumular ou julgamento realizado na forma do art. 543-C do CPC, afigura-se possível, excepcionalmente, o conhecimento de reclamação quando ficar evidenciada a teratologia da decisão reclamada.2. A filtragem do conteúdo das pesquisas feitas por cada usuário não constitui atividade intrínseca ao serviço prestado pelos provedores de pesquisa virtual, de modo que não se pode reputar defeituoso o site que não exerce esse controle sobre os resultados das buscas.3. Os provedores de pesquisa virtual realizam suas buscas dentro de um universo virtual, cujo acesso é público e irrestrito, ou seja, seu papel se restringe à identificação de páginas na web onde determinado dado ou informação, ainda que ilícito, estão sendo livremente veiculados. Dessa forma, ainda que seus mecanismos de busca facilitem o acesso e a consequente divulgação de páginas cujo conteúdo seja potencialmente ilegal, fato é que essas páginas são públicas e compõem a rede mundial de computadores e, por isso, aparecem no resultado dos sites de pesquisa.4. Os provedores de pesquisa virtual não podem ser obrigados a eliminar do seu sistema os resultados derivados da busca de determinado termo ou expressão, tampouco os resultados que apontem para uma foto ou texto específico, independentemente da indicação do URL da página onde este estiver inserido.5. Não se pode, sob o pretexto de dificultar a propagação de conteúdo ilícito ou ofensivo na web, reprimir o direito da coletividade à informação. Sopesados os direitos envolvidos e o risco potencial de violação de cada um deles, o fiel da balança deve pender para a garantia da liberdade de informação assegurada pelo art. 220, § 1º, da CF/88, sobretudo considerando que a Internet representa, hoje, importante veículo de comunicação social de massa.6. Preenchidos os requisitos indispensáveis à exclusão, da web, de uma determinada página virtual, sob a alegação de veicular conteúdo ilícito ou ofensivo - notadamente a identificação do URL dessa página - a vítima carecerá de interesse de agir contra o provedor de pesquisa, por absoluta falta de utilidade da jurisdição. Se a vítima identificou, via URL, o autor do ato ilícito, não tem motivo para demandar contra aquele que apenas facilita o acesso a esse ato que, até então, se encontra publicamente disponível na rede para divulgação.7. Excepciona o entendimento contido nos itens anteriores o armazenamento de dados em cache. Estando uma cópia do texto ou imagem ofensivos ou ilícitos registrados na memória cache do provedor de pesquisa virtual, deve esse, uma vez ciente do fato, providenciar a exclusão preventiva, desde que seja fornecido o URL da página original, bem como comprovado que esta já foi removida da Internet.8. Como se trata de providência específica, a ser adotada por pessoa distinta daquela que posta o conteúdo ofensivo e envolvendo arquivo (cópia) que não se confunde com o texto ou imagem original, deve haver não apenas um pedido individualizado da parte, mas um comando judicial determinado e expresso no sentido de que a cópia em cache seja removida.9. Mostra-se teratológica a imposição de multa cominatória para obrigação de fazer que se afigura impossível de ser cumprida.10. Reclamação provida.(Rcl 5.072/AC, Rel. Ministro MARCO BUZZI, Rel. p/ Acórdão Ministra NANCY ANDRIGHI, SEGUNDA SEÇÃO, DJe 4.6.2014);DIREITO CIVIL E PROCESSUAL CIVIL. VIOLAÇÃO DE DIREITOS AUTORAIS.REDE SOCIAL. ORKUT. RESPONSABILIDADE CIVIL DO PROVEDOR (ADMINISTRADOR). INEXISTÊNCIA, NO CASO CONCRETO. ESTRUTURA DA REDE E COMPORTAMENTO DO PROVEDOR QUE NÃO CONTRIBUÍRAM PARA A VIOLAÇÃO DE DIREITOS AUTORAIS. RESPONSABILIDADES CONTRIBUTIVA E VICÁRIA. NÃO APLICAÇÃO. INEXISTÊNCIA DE DANOS QUE POSSAM SER EXTRAÍDOS DA CAUSA DE PEDIR. OBRIGAÇÃO DE FAZER. INDICAÇÃO DE URL\\'S. NECESSIDADE.APONTAMENTO DOS IP\\'S. OBRIGAÇÃO DO PROVEDOR. ASTREINTES. VALOR.AJUSTE.1. Os arts. 102 a 104 da Lei n. 9.610/1998 atribuem responsabilidade civil por violação de direitos autorais a quem fraudulentamente \"reproduz, divulga ou de qualquer forma utiliza\" obra de titularidade de outrem; a quem \"editar obra literária, artística ou científica\" ou a quem \"vender, expuser a venda, ocultar, adquirir, distribuir, tiver em depósito ou utilizar obra ou fonograma reproduzidos com fraude, com a finalidade de vender, obter ganho, vantagem, proveito, lucro direto ou indireto, para si ou para outrem\".2. Em se tratando de provedor de internet comum, como os administradores de rede social, não é óbvia a inserção de sua conduta regular em algum dos verbos constantes nos arts. 102 a 104 da Lei de Direitos Autorais. Há que investigar como e em que medida a estrutura do provedor de internet ou sua conduta culposa ou dolosamente omissiva contribuíram para a violação de direitos autorais.3. No direito comparado, a responsabilidade civil de provedores de internet por violações de direitos autorais praticadas por terceiros tem sido reconhecida a partir da ideia de responsabilidade contributiva e de responsabilidade vicária, somada à constatação de que a utilização de obra protegida não consubstanciou o chamado fair use.4. Reconhece-se a responsabilidade contributiva do provedor de internet, no cenário de violação de propriedade intelectual, nas hipóteses em que há intencional induzimento ou encorajamento para que terceiros cometam diretamente ato ilícito. A responsabilidade vicária tem lugar nos casos em que há lucratividade com ilícitos praticados por outrem e o beneficiado se nega a exercer o poder de controle ou de limitação dos danos, quando poderia fazê-lo.5. No caso em exame, a rede social em questão não tinha como traço fundamental o compartilhamento de obras, prática que poderia ensejar a distribuição ilegal de criações protegidas. Conforme constatado por prova pericial, a arquitetura do Orkut não provia materialmente os usuários com os meios necessários à violação de direitos autorais. O ambiente virtual não constituía suporte essencial à pratica de atos ilícitos, como ocorreu nos casos julgados no direito comparado, em que provedores tinham estrutura substancialmente direcionada à violação da propriedade intelectual. Descabe, portanto, a incidência da chamada responsabilidade contributiva.6. Igualmente, não há nos autos comprovação de ter havido lucratividade com ilícitos praticados por usuários em razão da negativa de o provedor exercer o poder de controle ou de limitação dos danos, quando poderia fazê-lo, do que resulta a impossibilidade de aplicação da chamada teoria da responsabilidade vicária.7. Ademais, não há danos materiais que possam ser imputados à inércia do provedor de internet, nos termos da causa de pedir. Ato ilícito futuro não pode acarretar ou justificar dano pretérito. Se houve omissão culposa, são os danos resultantes dessa omissão que devem ser recompostos, descabendo o ressarcimento, pela Google, de eventuais prejuízos que a autora já vinha experimentando antes mesmo de proceder à notificação.8. Quanto à obrigação de fazer - retirada de páginas da rede social indicada -, a parte autora também juntou à inicial outros documentos que contêm, de forma genérica, URLs de comunidades virtuais, sem a indicação precisa do endereço interno das páginas nas quais os atos ilícitos estariam sendo praticados. Nessas circunstâncias, a jurisprudência da Segunda Seção afasta a obrigação do provedor, nos termos do que ficou decidido na Rcl 5.072/AC, Rel. p/ acórdão Ministra NANCY ANDRIGHI, DJe 4/6/2014.9. A responsabilidade dos provedores de internet, quanto a conteúdo ilícito veiculado em seus sites, envolve também a indicação dos autores da informação (IPs).10. Nos termos do art. 461, §§ 5º e 6º, do CPC, pode o magistrado a qualquer tempo, e mesmo de ofício, alterar o valor ou a periodicidade das astreintes em caso de ineficácia ou insuficiência ao desiderato de compelir o devedor ao cumprimento da obrigação.Valor da multa cominatória ajustado às peculiaridades do caso concreto.11. \"Embargos de declaração manifestados com notório propósito de prequestionamento não têm caráter protelatório\" (Súmula n. 98/STJ).12. Recurso especial parcialmente provido.(REsp 1512647/MG, Rel. Ministro LUIS FELIPE SALOMÃO, SEGUNDA SEÇÃO, DJe 5.8.2015).No caso concreto, os autores notificaram extrajudicialmente o provedor de pesquisa recorrente para remoção geral e controle prévio de conteúdo que consideram ofensivo, indicando alguns endereços a título de exemplo, o que foi renovado na presente demanda e concedido na forma requerida.Desse modo, o amplo e genérico comando da sentença de remoção e o controle prévio de conteúdo ofensivo não encontram respaldo na jurisprudência desta Corte, notadamente no decidido pela Segunda Seção na Reclamação 5.072/AC.Afastada a conduta omissiva da recorrente na remoção do conteúdo ofensivo por ausência de indicação precisa de URL, deve ser afastada a condenação no pagamento de danos morais e da multa por descumprimento da ordem judicial respectiva.Em face do exposto, dou provimento ao recurso especial para julgar improcedentes os pedidos iniciais. Invertidos os ônus da sucumbência.Intimem-se.Brasília (DF), 26 de março de 2021.MINISTRA MARIA ISABEL GALLOTTI Relatora \\r'"
            ]
          },
          "metadata": {
            "tags": []
          },
          "execution_count": 184
        }
      ]
    },
    {
      "cell_type": "code",
      "metadata": {
        "id": "SeVAJmpDE6US"
      },
      "source": [
        "s = 'Part 1. Part 2. Part 3 then more text'"
      ],
      "execution_count": null,
      "outputs": []
    },
    {
      "cell_type": "code",
      "metadata": {
        "colab": {
          "base_uri": "https://localhost:8080/",
          "height": 348
        },
        "id": "xzFbLoLgNnCb",
        "outputId": "86c5174e-1621-46f9-b013-514a0fc6bbfe"
      },
      "source": [
        "df"
      ],
      "execution_count": null,
      "outputs": [
        {
          "output_type": "execute_result",
          "data": {
            "text/html": [
              "<div>\n",
              "<style scoped>\n",
              "    .dataframe tbody tr th:only-of-type {\n",
              "        vertical-align: middle;\n",
              "    }\n",
              "\n",
              "    .dataframe tbody tr th {\n",
              "        vertical-align: top;\n",
              "    }\n",
              "\n",
              "    .dataframe thead th {\n",
              "        text-align: right;\n",
              "    }\n",
              "</style>\n",
              "<table border=\"1\" class=\"dataframe\">\n",
              "  <thead>\n",
              "    <tr style=\"text-align: right;\">\n",
              "      <th></th>\n",
              "      <th>Processo</th>\n",
              "      <th>Relator(a)</th>\n",
              "      <th>Data da Publicação</th>\n",
              "      <th>Decisão</th>\n",
              "    </tr>\n",
              "  </thead>\n",
              "  <tbody>\n",
              "    <tr>\n",
              "      <th>0</th>\n",
              "      <td>REsp 1862739</td>\n",
              "      <td>Ministra MARIA ISABEL GALLOTTI</td>\n",
              "      <td>30/03/2021</td>\n",
              "      <td>\\n\\r\\nRECURSO ESPECIAL Nº 1.862.739 - RJ (2019...</td>\n",
              "    </tr>\n",
              "    <tr>\n",
              "      <th>1</th>\n",
              "      <td>REsp 1846969</td>\n",
              "      <td>Ministro PAULO DE TARSO SANSEVERINO</td>\n",
              "      <td>03/12/2020</td>\n",
              "      <td>\\n\\r\\nRECURSO ESPECIAL Nº 1846969 - RJ (2019/0...</td>\n",
              "    </tr>\n",
              "    <tr>\n",
              "      <th>2</th>\n",
              "      <td>AgInt no REsp 1768083</td>\n",
              "      <td>Ministra MARIA ISABEL GALLOTTI</td>\n",
              "      <td>12/08/2020</td>\n",
              "      <td>\\n\\r\\nAgInt no RECURSO ESPECIAL Nº 1.768.083 -...</td>\n",
              "    </tr>\n",
              "    <tr>\n",
              "      <th>3</th>\n",
              "      <td>AREsp 1660048</td>\n",
              "      <td>Ministro PAULO DE TARSO SANSEVERINO</td>\n",
              "      <td>12/08/2020</td>\n",
              "      <td>\\n\\r\\nAGRAVO EM RECURSO ESPECIAL Nº 1660048 - ...</td>\n",
              "    </tr>\n",
              "    <tr>\n",
              "      <th>4</th>\n",
              "      <td>REsp 1849344</td>\n",
              "      <td>Ministra MARIA ISABEL GALLOTTI</td>\n",
              "      <td>10/08/2020</td>\n",
              "      <td>\\n\\r\\nRECURSO ESPECIAL Nº 1849344 - SP (2019/0...</td>\n",
              "    </tr>\n",
              "    <tr>\n",
              "      <th>5</th>\n",
              "      <td>AgInt no AREsp 1311824</td>\n",
              "      <td>Ministro MARCO AURÉLIO BELLIZZE</td>\n",
              "      <td>30/04/2020</td>\n",
              "      <td>\\n\\r\\nAgInt no AGRAVO EM RECURSO ESPECIAL Nº 1...</td>\n",
              "    </tr>\n",
              "    <tr>\n",
              "      <th>6</th>\n",
              "      <td>AREsp 1628623</td>\n",
              "      <td>Ministro PAULO DE TARSO SANSEVERINO</td>\n",
              "      <td>11/03/2020</td>\n",
              "      <td>\\n\\r\\nAGRAVO EM RECURSO ESPECIAL Nº 1.628.623 ...</td>\n",
              "    </tr>\n",
              "    <tr>\n",
              "      <th>7</th>\n",
              "      <td>TutPrv no AREsp 1530583</td>\n",
              "      <td>Ministra MARIA ISABEL GALLOTTI</td>\n",
              "      <td>13/12/2019</td>\n",
              "      <td>\\n\\r\\nTutPrv no AGRAVO EM RECURSO ESPECIAL Nº ...</td>\n",
              "    </tr>\n",
              "    <tr>\n",
              "      <th>8</th>\n",
              "      <td>AREsp 1265610</td>\n",
              "      <td>Ministro MARCO BUZZI</td>\n",
              "      <td>11/12/2019</td>\n",
              "      <td>\\n\\r\\nAGRAVO EM RECURSO ESPECIAL Nº 1.265.610 ...</td>\n",
              "    </tr>\n",
              "    <tr>\n",
              "      <th>9</th>\n",
              "      <td>REsp 1417851</td>\n",
              "      <td>Ministro LUIS FELIPE SALOMÃO</td>\n",
              "      <td>01/10/2019</td>\n",
              "      <td>\\n\\r\\nRECURSO ESPECIAL Nº 1.417.851 - SP (2013...</td>\n",
              "    </tr>\n",
              "  </tbody>\n",
              "</table>\n",
              "</div>"
            ],
            "text/plain": [
              "                  Processo  ...                                            Decisão\n",
              "0             REsp 1862739  ...  \\n\\r\\nRECURSO ESPECIAL Nº 1.862.739 - RJ (2019...\n",
              "1             REsp 1846969  ...  \\n\\r\\nRECURSO ESPECIAL Nº 1846969 - RJ (2019/0...\n",
              "2    AgInt no REsp 1768083  ...  \\n\\r\\nAgInt no RECURSO ESPECIAL Nº 1.768.083 -...\n",
              "3            AREsp 1660048  ...  \\n\\r\\nAGRAVO EM RECURSO ESPECIAL Nº 1660048 - ...\n",
              "4             REsp 1849344  ...  \\n\\r\\nRECURSO ESPECIAL Nº 1849344 - SP (2019/0...\n",
              "5   AgInt no AREsp 1311824  ...  \\n\\r\\nAgInt no AGRAVO EM RECURSO ESPECIAL Nº 1...\n",
              "6            AREsp 1628623  ...  \\n\\r\\nAGRAVO EM RECURSO ESPECIAL Nº 1.628.623 ...\n",
              "7  TutPrv no AREsp 1530583  ...  \\n\\r\\nTutPrv no AGRAVO EM RECURSO ESPECIAL Nº ...\n",
              "8            AREsp 1265610  ...  \\n\\r\\nAGRAVO EM RECURSO ESPECIAL Nº 1.265.610 ...\n",
              "9             REsp 1417851  ...  \\n\\r\\nRECURSO ESPECIAL Nº 1.417.851 - SP (2013...\n",
              "\n",
              "[10 rows x 4 columns]"
            ]
          },
          "metadata": {
            "tags": []
          },
          "execution_count": 98
        }
      ]
    }
  ]
}